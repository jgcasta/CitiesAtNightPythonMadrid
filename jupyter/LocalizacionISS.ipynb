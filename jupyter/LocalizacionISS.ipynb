{
 "cells": [
  {
   "cell_type": "markdown",
   "metadata": {},
   "source": [
    "# Posición de la ISS\n",
    "\n",
    "En este notebook determinamos la posición de la ISS a partir de los elementos orbitales para cualquier instante\n",
    "\n",
    "## Descarga de los Elementos orbitales \n",
    "\n",
    "Para la descarga debemos tener una cuenta en https://www.space-track.org Los elementos orbitales osculadores se distribuyen en formato TLE http://en.wikipedia.org/wiki/Two-line_element_set y contienen los datos necesarios para el cálculo de la posición de un satélite en un momento determinado. Estos elementos son válidos para una fecha próxima a la de osculación."
   ]
  },
  {
   "cell_type": "code",
   "execution_count": 5,
   "metadata": {
    "collapsed": false
   },
   "outputs": [
    {
     "name": "stdout",
     "output_type": "stream",
     "text": [
      "Connecting...\n",
      "---------------------------------TLE---------------------------------\n",
      "\n",
      "1 25544U 98067A   16167.16369947  .00003073  00000-0  52817-4 0  9996\n",
      "\n",
      "2 25544  51.6428  68.1260 0000336   4.0963  87.8469 15.54558487  4676\n",
      "\n",
      "1 25544U 98067A   16167.17503470  .00003196  00000-0  54644-4 0  9994\n",
      "\n",
      "2 25544  51.6428  68.0694 0000324   5.0932 150.3291 15.54558788  4673\n",
      "\n",
      "1 25544U 98067A   16167.17503470  .00003196  00000-0  54644-4 0  9994\n",
      "\n",
      "2 25544  51.6428  68.0694 0000324   5.0932 150.3291 15.54558788  4673\n",
      "\n",
      "1 25544U 98067A   16167.17503470  .00003196  00000-0  54644-4 0  9994\n",
      "\n",
      "2 25544  51.6428  68.0694 0000324   5.0932 150.3291 15.54558788  4673\n",
      "\n",
      "1 25544U 98067A   16167.86260205  .00006689  00000-0  10646-3 0  9999\n",
      "\n",
      "2 25544  51.6430  64.6382 0000340   6.8018  39.1165 15.54574582  4780\n",
      "\n",
      "1 25544U 98067A   16167.93013459  .00006642  00000-0  10575-3 0  9994\n",
      "\n",
      "2 25544  51.6430  64.3012 0000343   7.3896  56.7230 15.54575408  4797\n",
      "\n"
     ]
    }
   ],
   "source": [
    "import urllib, urllib2, cookielib\n",
    "import datetime\n",
    "\n",
    "noradId = '25544'       # NORADID de la ISS\n",
    "fecha = '2016/06/15'    # Fecha de osculación\n",
    "\n",
    "baseURL = 'https://www.space-track.org'\n",
    "username = 'jgcasta'\n",
    "password = 'xxxxxxxxxx'\n",
    "\n",
    "d = datetime.datetime.strptime(fecha, \"%Y/%m/%d\")\n",
    "d1 = d + datetime.timedelta(days=1)\n",
    "dstr = d.strftime(\"%Y-%m-%d\")\n",
    "d1str = d1.strftime(\"%Y-%m-%d\")\n",
    "\n",
    "print \"Connecting...\"\n",
    "cj = cookielib.CookieJar()\n",
    "opener = urllib2.build_opener(urllib2.HTTPCookieProcessor(cj))\n",
    "parameters = urllib.urlencode({'identity': username ,'password': password})\n",
    "opener.open(baseURL + '/ajaxauth/login', parameters)\n",
    "queryString = baseURL +\"/basicspacedata/query/class/tle/format/tle/NORAD_CAT_ID/\"\n",
    "queryString = queryString + noradId+\"/EPOCH/\"+dstr+\"%2000:00:00--\"+d1str+\"%2000:00:00\"\n",
    "resp = opener.open(queryString)\n",
    "\n",
    "TLEs = resp.readlines()\n",
    "print \"---------------------------------TLE---------------------------------\\n\"\n",
    "for tle in TLEs:\n",
    "    print tle\n",
    "\n",
    "opener.close()\n",
    "\n"
   ]
  },
  {
   "cell_type": "markdown",
   "metadata": {},
   "source": [
    "## Cálculo de las efemérides\n",
    "\n",
    "Las efemérides ofrecen datos válidos para un observador sobre la superficie terrestre. Estas se denominan topocéntricas, y para su cálculo necesitamos definir nuestra posición y el instante.\n",
    "\n",
    "Lo que nos interesa es conocer la posición que ocupará el satélite a lo largo de su órbita, para planificar la toma de imágenes. Para ello calculamos el punto subterrestre. Este viene definido por las coordenadas sobre la superficie, desde las que satélite aparece en el nadir. Las calculamos para un día completo y las proyectamos sobre el mapa.\n",
    "\n",
    "Para planificar cuándo es necesario realizar las fotografías, se compara la posición subterrestre del satélite con los diferentes puntos que se quieren fotografiar. Los momentos de paso se comunican al centro de la misión para que puedan ser planinficados dentro de las actividades diarias"
   ]
  },
  {
   "cell_type": "code",
   "execution_count": 6,
   "metadata": {
    "collapsed": false
   },
   "outputs": [
    {
     "name": "stdout",
     "output_type": "stream",
     "text": [
      "Orto:  2016/6/25 17:01:33\n",
      "Tránsito  2016/6/25 17:06:42\n",
      "Puesta  2016/6/25 17:11:50\n",
      "Longitud  -167:52:41.9\n",
      "Latitud  -26:34:03.5\n"
     ]
    }
   ],
   "source": [
    "import math\n",
    "import datetime\n",
    "import time\n",
    "import ephem\n",
    "\n",
    "\n",
    "obs = ephem.Observer()\n",
    "obs.lon = '-3.5'\n",
    "obs.lat = '40.5'\n",
    "obs.elevation = 650\n",
    "\n",
    "sat = ephem.readtle('ISS',\n",
    "    '1 25544U 98067A   16167.93013459  .00006642  00000-0  10575-3 0  9994',\n",
    "    '2 25544  51.6430  64.3012 0000343   7.3896  56.7230 15.54575408  4797'\n",
    ")\n",
    "\n",
    "obs.date = ephem.Date('2016/06/25 16:23:45.12')\n",
    "sat.compute(obs)\n",
    "\n",
    "print 'Orto: ',sat.rise_time\n",
    "print 'Tránsito ', sat.transit_time\n",
    "print 'Puesta ', sat.set_time\n",
    "\n",
    "lon = ephem.degrees(sat.sublong)\n",
    "lat = sat.sublat\n",
    "\n",
    "print 'Longitud ',lon\n",
    "print 'Latitud ', lat\n",
    "\n",
    "\n"
   ]
  },
  {
   "cell_type": "markdown",
   "metadata": {},
   "source": []
  }
 ],
 "metadata": {
  "kernelspec": {
   "display_name": "Python 2",
   "language": "python",
   "name": "python2"
  },
  "language_info": {
   "codemirror_mode": {
    "name": "ipython",
    "version": 2
   },
   "file_extension": ".py",
   "mimetype": "text/x-python",
   "name": "python",
   "nbconvert_exporter": "python",
   "pygments_lexer": "ipython2",
   "version": "2.7.6"
  }
 },
 "nbformat": 4,
 "nbformat_minor": 0
}
