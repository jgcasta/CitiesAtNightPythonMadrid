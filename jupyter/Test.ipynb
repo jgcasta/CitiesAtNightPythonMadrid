{
 "cells": [
  {
   "cell_type": "markdown",
   "metadata": {},
   "source": [
    "# Título del Jupyter\n",
    "\n",
    "Texto del Jupyter"
   ]
  },
  {
   "cell_type": "code",
   "execution_count": 4,
   "metadata": {
    "collapsed": false
   },
   "outputs": [
    {
     "name": "stdout",
     "output_type": "stream",
     "text": [
      "Connecting...\n",
      "---------------------------------TLE---------------------------------\n",
      "\n",
      "1 25544U 98067A   16167.16369947  .00003073  00000-0  52817-4 0  9996\n",
      "2 25544  51.6428  68.1260 0000336   4.0963  87.8469 15.54558487  4676\n",
      "1 25544U 98067A   16167.17503470  .00003196  00000-0  54644-4 0  9994\n",
      "2 25544  51.6428  68.0694 0000324   5.0932 150.3291 15.54558788  4673\n",
      "1 25544U 98067A   16167.17503470  .00003196  00000-0  54644-4 0  9994\n",
      "2 25544  51.6428  68.0694 0000324   5.0932 150.3291 15.54558788  4673\n",
      "1 25544U 98067A   16167.17503470  .00003196  00000-0  54644-4 0  9994\n",
      "2 25544  51.6428  68.0694 0000324   5.0932 150.3291 15.54558788  4673\n",
      "1 25544U 98067A   16167.86260205  .00006689  00000-0  10646-3 0  9999\n",
      "2 25544  51.6430  64.6382 0000340   6.8018  39.1165 15.54574582  4780\n",
      "1 25544U 98067A   16167.93013459  .00006642  00000-0  10575-3 0  9994\n",
      "2 25544  51.6430  64.3012 0000343   7.3896  56.7230 15.54575408  4797\n",
      "\n"
     ]
    }
   ],
   "source": [
    "import urllib, urllib2, cookielib\n",
    "import datetime\n",
    "\n",
    "noradId = '25544'       # NORADID de la ISS\n",
    "fecha = '2016/06/15'    # Fecha de osculación\n",
    "\n",
    "baseURL = 'https://www.space-track.org'\n",
    "username = 'jgcasta'\n",
    "password = '123456789012345A'\n",
    "\n",
    "d = datetime.datetime.strptime(fecha, \"%Y/%m/%d\")\n",
    "d1 = d + datetime.timedelta(days=1)\n",
    "dstr = d.strftime(\"%Y-%m-%d\")\n",
    "d1str = d1.strftime(\"%Y-%m-%d\")\n",
    "\n",
    "print \"Connecting...\"\n",
    "cj = cookielib.CookieJar()\n",
    "opener = urllib2.build_opener(urllib2.HTTPCookieProcessor(cj))\n",
    "parameters = urllib.urlencode({'identity': username ,'password': password})\n",
    "opener.open(baseURL + '/ajaxauth/login', parameters)\n",
    "queryString = baseURL +\"/basicspacedata/query/class/tle/format/tle/NORAD_CAT_ID/\"\n",
    "queryString = queryString + noradId+\"/EPOCH/\"+dstr+\"%2000:00:00--\"+d1str+\"%2000:00:00\"\n",
    "resp = opener.open(queryString)\n",
    "\n",
    "TLE = resp.read()\n",
    "print \"---------------------------------TLE---------------------------------\\n\"\n",
    "print TLE\n",
    "\n",
    "opener.close()"
   ]
  }
 ],
 "metadata": {
  "kernelspec": {
   "display_name": "Python 2",
   "language": "python",
   "name": "python2"
  },
  "language_info": {
   "codemirror_mode": {
    "name": "ipython",
    "version": 2
   },
   "file_extension": ".py",
   "mimetype": "text/x-python",
   "name": "python",
   "nbconvert_exporter": "python",
   "pygments_lexer": "ipython2",
   "version": "2.7.6"
  }
 },
 "nbformat": 4,
 "nbformat_minor": 0
}
